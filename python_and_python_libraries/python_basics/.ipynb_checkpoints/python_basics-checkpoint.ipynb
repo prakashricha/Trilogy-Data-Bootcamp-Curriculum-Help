{
 "cells": [
  {
   "cell_type": "markdown",
   "metadata": {},
   "source": [
    "# Python Basics:\n",
    "\n",
    "* If you haven't already, reference the readme.md file in the base directory for context information.\n",
    "\n",
    "In this notebook I will hopefully be able to demonstrate the core syntax and concepts of python. If, at any point, you want additional information, Python is a super popular language and you should be able to easily find everything you want via google/ stack overflow. Also, Python's documentation: https://docs.python.org/3/ and Tutorials Point: https://www.tutorialspoint.com/python/index.htm are great references."
   ]
  },
  {
   "cell_type": "markdown",
   "metadata": {},
   "source": [
    "## Basic Syntax\n",
    "\n",
    "Python is an \"Interpreted\" Language, and uses whitespace/ indentation to help evaluate code, unlike VBA. This will be shown throughout the document, so I don't feel like I need to cover this in any depth. Also, touching on a couple specific concepts:\n",
    "\n",
    "* Python is case sensitive, meaning I and i will not reference the same variable.\n",
    "* A word not wrapped in quotes will be read as a named variable, not a string\n",
    "    * \"i\" is a string, i is a variable\n",
    "* Variables have to start with a letter or _\n",
    "* Python is \"Duck typed\", meaning that you can cast a variable that was previously an integer to a string without an error being thrown.\n",
    "    * This also allows you to override native Python functions if you're not careful, Be smart with your variable names!\n",
    "* Placing a # before text \"comments out\" that text (will not execute)\n",
    "* Functions are called by typing the function name, followed by it's parameters (if any) wrapped in quotes\n",
    "    * print does nothing (references that function's memory location), print() does things\n",
    "* Any whitespace in between anything negates the relationship\n",
    "    * ie. print  () wont work\n",
    "    * ie2. dog name, will be interpreted as two seperate variables (dog and name) and likely err out "
   ]
  },
  {
   "cell_type": "markdown",
   "metadata": {},
   "source": [
    "# Operators:"
   ]
  },
  {
   "cell_type": "markdown",
   "metadata": {},
   "source": [
    "### Arithmetic operators\n",
    "* Caveat: Operators functions can be remapped for different data (object) types"
   ]
  },
  {
   "cell_type": "code",
   "execution_count": 1,
   "metadata": {},
   "outputs": [],
   "source": [
    "a, b = 2,3 \n",
    "# addition\n",
    "a + b\n",
    "# subtraction\n",
    "a - b\n",
    "# multiplication\n",
    "a * b\n",
    "# division\n",
    "a / b\n",
    "# floored division \n",
    "a // b\n",
    "# ^power\n",
    "a ** b\n",
    "# modulus (remainder)\n",
    "b % a\n",
    "# interval a\n",
    "a += 1\n",
    "# multiply a by 2, save value\n",
    "a *= 2"
   ]
  },
  {
   "cell_type": "markdown",
   "metadata": {},
   "source": [
    "### Comparison Operators: \n",
    "* Return True or False (Boolean)"
   ]
  },
  {
   "cell_type": "code",
   "execution_count": 2,
   "metadata": {},
   "outputs": [
    {
     "data": {
      "text/plain": [
       "True"
      ]
     },
     "execution_count": 2,
     "metadata": {},
     "output_type": "execute_result"
    }
   ],
   "source": [
    "# equals\n",
    "a == b\n",
    "# greater than \n",
    "a > b\n",
    "# greater | equals\n",
    "a>=b\n",
    "# not equals\n",
    "a!=b"
   ]
  },
  {
   "cell_type": "markdown",
   "metadata": {},
   "source": [
    "### Comparison Adjustments\n",
    "* Additional layers that change output"
   ]
  },
  {
   "cell_type": "code",
   "execution_count": 3,
   "metadata": {},
   "outputs": [
    {
     "data": {
      "text/plain": [
       "True"
      ]
     },
     "execution_count": 3,
     "metadata": {},
     "output_type": "execute_result"
    }
   ],
   "source": [
    "# not: executes if expression is false\n",
    "not a == b\n",
    "# ~ same as not\n",
    "~ a == b\n",
    "# and: executes if both true\n",
    "a==b and a>b\n",
    "# or: executes if either or both true\n",
    "a==b or b<a"
   ]
  },
  {
   "cell_type": "markdown",
   "metadata": {},
   "source": [
    "## Data Types\n",
    "* On your own, type (variable), .,  then shift+tab to explore available methods/ attributes for each data type"
   ]
  },
  {
   "cell_type": "code",
   "execution_count": 4,
   "metadata": {},
   "outputs": [
    {
     "name": "stdout",
     "output_type": "stream",
     "text": [
      "dict_items([('cat', 0), ('dog', 2)])\n"
     ]
    }
   ],
   "source": [
    "# string \n",
    "a = 'apple'\n",
    "# int\n",
    "b= 1\n",
    "# float \n",
    "c =1.2\n",
    "# bool\n",
    "d = True\n",
    "# list\n",
    "e = [1,2,'cat', b]\n",
    "# tuple\n",
    "f = (a, b, 'dog')\n",
    "# set \n",
    "g = {'cat','dog'}\n",
    "# dictionary\n",
    "h = {'cat':0, 'dog':2}\n",
    "print(h.items())"
   ]
  },
  {
   "cell_type": "markdown",
   "metadata": {},
   "source": [
    "# Loops:\n",
    "\n",
    "2 main types of loops:\n",
    "* For loops \n",
    "* While loops"
   ]
  },
  {
   "cell_type": "code",
   "execution_count": 5,
   "metadata": {},
   "outputs": [
    {
     "name": "stdout",
     "output_type": "stream",
     "text": [
      "0\n",
      "1\n",
      "2\n",
      "3\n",
      "4\n",
      "5\n",
      "6\n",
      "7\n",
      "8\n",
      "9\n",
      "apple\n",
      "banana\n"
     ]
    }
   ],
   "source": [
    "# For Loop\n",
    "# usage: for <placeholder variable> in <iterable>:\n",
    "    # do things\n",
    "\n",
    "# examples (generator)\n",
    "for i in range(10):\n",
    "    print(i)\n",
    "    \n",
    "# examples (list)\n",
    "fruits = ['apple','banana']\n",
    "for i_can_type_literally_almost_anything_here_and_it_will_still_work in fruits:\n",
    "    print(i_can_type_literally_almost_anything_here_and_it_will_still_work)"
   ]
  },
  {
   "cell_type": "code",
   "execution_count": 6,
   "metadata": {},
   "outputs": [
    {
     "name": "stdout",
     "output_type": "stream",
     "text": [
      "i value: 0, Switch Value: True\n",
      "i value: 1, Switch Value: True\n",
      "i value: 2, Switch Value: True\n",
      "i value: 3, Switch Value: True\n",
      "i value: 4, Switch Value: True\n",
      "i value: 5, Switch Value: True\n",
      "i value: 6, Switch Value: True\n",
      "Loop ending\n",
      "After loop: i: 6, switch: False\n"
     ]
    }
   ],
   "source": [
    "# While loop\n",
    "# usage: while <anything that can be evaluated as true or false>:\n",
    "    # do things\n",
    "\n",
    "# example (switch)\n",
    "i, switch = 0, True\n",
    "while switch:\n",
    "    print('i value: {}, Switch Value: {}'.format(i, switch))\n",
    "    if i > 5:\n",
    "        print(\"Loop ending\")\n",
    "        switch = False\n",
    "    else: \n",
    "        i+=1\n",
    "print('After loop: i: {}, switch: {}'.format(i,switch))"
   ]
  },
  {
   "cell_type": "code",
   "execution_count": 7,
   "metadata": {},
   "outputs": [
    {
     "name": "stdout",
     "output_type": "stream",
     "text": [
      "0\n",
      "1\n",
      "2\n",
      "3\n",
      "4\n",
      "Breaking loop\n"
     ]
    }
   ],
   "source": [
    "# example (break)\n",
    "i = 0\n",
    "while True:\n",
    "    print(i)\n",
    "    \n",
    "    if i == 4:\n",
    "        print('Breaking loop')\n",
    "        break\n",
    "        \n",
    "    i+=1"
   ]
  },
  {
   "cell_type": "markdown",
   "metadata": {},
   "source": [
    "# Imports:"
   ]
  },
  {
   "cell_type": "code",
   "execution_count": 25,
   "metadata": {},
   "outputs": [],
   "source": [
    "# get all contents of random\n",
    "import random\n",
    "# multiple imports \n",
    "import sys, os,time \n",
    "# get all contents of numpy, alias\n",
    "import numpy as np\n",
    "# get specific aspect of package\n",
    "from collections import defaultdict"
   ]
  },
  {
   "cell_type": "code",
   "execution_count": 9,
   "metadata": {},
   "outputs": [
    {
     "data": {
      "text/plain": [
       "<module 'numpy.random' from '/home/eric/anaconda3/lib/python3.6/site-packages/numpy/random/__init__.py'>"
      ]
     },
     "execution_count": 9,
     "metadata": {},
     "output_type": "execute_result"
    }
   ],
   "source": [
    "# usage: call methods that belong to package: package.methods\n",
    "np.random"
   ]
  },
  {
   "cell_type": "markdown",
   "metadata": {},
   "source": [
    "# Importing from local directories"
   ]
  },
  {
   "cell_type": "code",
   "execution_count": 10,
   "metadata": {},
   "outputs": [
    {
     "data": {
      "text/plain": [
       "'Hey! Here to help!'"
      ]
     },
     "execution_count": 10,
     "metadata": {},
     "output_type": "execute_result"
    }
   ],
   "source": [
    "# allows you to use functions/ classes from other scripts\n",
    "# I have a .py file called sample.py with a function called sample_function\n",
    "from sample import sample_function\n",
    "sample_function()"
   ]
  },
  {
   "cell_type": "code",
   "execution_count": 11,
   "metadata": {},
   "outputs": [
    {
     "data": {
      "text/plain": [
       "['',\n",
       " '/usr/local/spark/python',\n",
       " '/home/eric/trilogy/DataViz-Lesson-Plans/python_basics/notebooks',\n",
       " '/home/eric/anaconda3/lib/python36.zip',\n",
       " '/home/eric/anaconda3/lib/python3.6',\n",
       " '/home/eric/anaconda3/lib/python3.6/lib-dynload',\n",
       " '/home/eric/.local/lib/python3.6/site-packages',\n",
       " '/home/eric/anaconda3/lib/python3.6/site-packages',\n",
       " '/home/eric/anaconda3/lib/python3.6/site-packages/Mako-1.0.7-py3.6.egg',\n",
       " '/home/eric/anaconda3/lib/python3.6/site-packages/cycler-0.10.0-py3.6.egg',\n",
       " '/home/eric/anaconda3/lib/python3.6/site-packages/pygpu-0.7.5+15.gf036aef-py3.6-linux-x86_64.egg',\n",
       " '/home/eric/anaconda3/lib/python3.6/site-packages/IPython/extensions',\n",
       " '/home/eric/.ipython']"
      ]
     },
     "execution_count": 11,
     "metadata": {},
     "output_type": "execute_result"
    }
   ],
   "source": [
    "# Limitations, can only import from directories listed on your file path, shown below\n",
    "sys.path"
   ]
  },
  {
   "cell_type": "code",
   "execution_count": 57,
   "metadata": {},
   "outputs": [],
   "source": [
    "# if script not in path, it will fail\n",
    "# i have a other_sample.py in my ../src directory\n",
    "# also this is how exception catching works\n",
    "try:\n",
    "    from other_sample import other_function\n",
    "except ModuleNotFoundError:\n",
    "    print(\"I can't find this in the places I've been told to look!\")\n",
    "    \n",
    "    \n",
    "# worth mentioning, you don't have to catch a specific exception, \n",
    "# except works like else, but is contingent on the code within the try statement failing\n",
    "try:\n",
    "    from other_sample import other_function\n",
    "except:\n",
    "    print(\"I can't find this in the places I've been told to look!\")"
   ]
  },
  {
   "cell_type": "code",
   "execution_count": 14,
   "metadata": {},
   "outputs": [
    {
     "data": {
      "text/plain": [
       "'Hey! Glad you found me!'"
      ]
     },
     "execution_count": 14,
     "metadata": {},
     "output_type": "execute_result"
    }
   ],
   "source": [
    "# to reference this, you can append the src dir to the path\n",
    "sys.path.append('../src')\n",
    "from other_sample import other_function\n",
    "other_function()"
   ]
  },
  {
   "cell_type": "markdown",
   "metadata": {},
   "source": [
    "# Functions\n",
    "* Usage: def func_name(params): (to declare)\n",
    "* func_name(params) (to use)"
   ]
  },
  {
   "cell_type": "code",
   "execution_count": 15,
   "metadata": {},
   "outputs": [
    {
     "name": "stdout",
     "output_type": "stream",
     "text": [
      "3\n",
      "4\n",
      "7\n"
     ]
    }
   ],
   "source": [
    "def some_function(a, b):\n",
    "    return a+b\n",
    "print(some_function(1,2))\n",
    "# default values\n",
    "def default_func(a, b=2):\n",
    "    return a+b\n",
    "print(default_func(2))\n",
    "print(default_func(2,5))"
   ]
  },
  {
   "cell_type": "markdown",
   "metadata": {},
   "source": [
    "## List Comprehension:\n",
    "* Essentially a single line for loop that returns the output of each iteration in a list\n",
    "* usage \\[/(do something with whatever/) for whatever in iterable /<optional conditions/>\\"
   ]
  },
  {
   "cell_type": "code",
   "execution_count": 16,
   "metadata": {},
   "outputs": [
    {
     "name": "stdout",
     "output_type": "stream",
     "text": [
      "[0, 1, 2, 3, 4, 5, 6, 7, 8, 9]\n"
     ]
    }
   ],
   "source": [
    "# list comprehension example\n",
    "n_0_to_9 = [i for i in range(10)]\n",
    "print(n_0_to_9)\n",
    "# with function (you don't even have to use the variable)\n",
    "random_nums = [random.randint(0,10) for dummy_variable in range(10)]\n",
    "# with conditional layer\n",
    "odd_or_even = ['odd' if var % 2 ==1 else 'even' for var in random_nums]"
   ]
  },
  {
   "cell_type": "markdown",
   "metadata": {},
   "source": [
    "# Dictionary Comprehension:\n",
    "* Similar to list comprehension, but returns dictionary object"
   ]
  },
  {
   "cell_type": "code",
   "execution_count": 17,
   "metadata": {},
   "outputs": [
    {
     "name": "stdout",
     "output_type": "stream",
     "text": [
      "{1: 2, 3: 4, 5: 6}\n",
      "{0: 'even', 1: 'odd', 2: 'even', 3: 'odd', 4: 'even', 5: 'odd', 6: 'even', 7: 'odd', 8: 'even', 9: 'odd'}\n"
     ]
    }
   ],
   "source": [
    "# examples, two variables in each iteration \n",
    "paired_list = [(1,2), (3,4), (5,6)]\n",
    "print({k: v for k,v in paired_list})\n",
    "# doesn't need to have multiple values per iteration\n",
    "print({k: 'odd' if k%2 else 'even' for k in range(10)})"
   ]
  },
  {
   "cell_type": "markdown",
   "metadata": {},
   "source": [
    "# Quick OOP Demo\n",
    "* classes\n",
    "* inheritance \n",
    "* polymorphism \n",
    "* magic methods"
   ]
  },
  {
   "cell_type": "code",
   "execution_count": 133,
   "metadata": {},
   "outputs": [],
   "source": [
    "# define class: (typically upper case)\n",
    "class Animal():\n",
    "    # initialize __init__ is one of the magic methods, called upon new class instanciation (this doesn't need to make sense yet)\n",
    "    # requires parameter name (ignore self for now)\n",
    "    def __init__(self, name):\n",
    "        # stores passed parameter to class object\n",
    "        self.name = name\n",
    "        self.living = True\n",
    "        \n",
    "    def walk(self):\n",
    "        if self.living:\n",
    "            return 'Walks like a generic Animal'\n",
    "        else:\n",
    "            return 'Unfortunately {} is not alive enough to engage in locomotion'.format(self.name)\n",
    "    \n",
    "    def __sub__(self,other):\n",
    "        if isinstance(other, Animal):\n",
    "            output = 'A skirmish ensues between {l} and {r}.\\nAfter a tremendous amount of violence, {l} walks away victorious\\nUnfortunately {r} is no longer with us'\\\n",
    "                .format(l=self.name, r=other.name)\n",
    "            del other \n",
    "            return output\n",
    "        else: return 'That doesnt make sense'\n",
    "        \n",
    "    def __rsub__(self):\n",
    "        del self\n",
    "        \n",
    "    def __del__(self):\n",
    "        self.living = False"
   ]
  },
  {
   "cell_type": "code",
   "execution_count": 134,
   "metadata": {},
   "outputs": [
    {
     "name": "stdout",
     "output_type": "stream",
     "text": [
      "A skirmish ensues between a1 and a2.\n",
      "After a tremendous amount of violence, a1 walks away victorious\n",
      "Unfortunately a2 is no longer with us\n"
     ]
    }
   ],
   "source": [
    "a1,a2 = Animal('a1'), Animal('a2')\n",
    "print(a1-a2)"
   ]
  },
  {
   "cell_type": "code",
   "execution_count": 137,
   "metadata": {},
   "outputs": [
    {
     "data": {
      "text/plain": [
       "'Walks like a generic Animal'"
      ]
     },
     "execution_count": 137,
     "metadata": {},
     "output_type": "execute_result"
    }
   ],
   "source": [
    "a2.walk()"
   ]
  },
  {
   "cell_type": "code",
   "execution_count": 107,
   "metadata": {},
   "outputs": [
    {
     "name": "stdout",
     "output_type": "stream",
     "text": [
      "Adam\n",
      "Walks like a generic Animal\n",
      "Attempting to walk...\n",
      "...\n",
      "...\n",
      "...\n",
      "I just told you that wasnt going to work. You have to be an Animal in order to walk\n"
     ]
    }
   ],
   "source": [
    "# instanciate class:\n",
    "adam = Animal('Adam')\n",
    "# reference name attribute\n",
    "print(adam.name)\n",
    "# call walk method\n",
    "print(adam.walk())\n",
    "# note, this method doesn't exist as a function outside of the class\n",
    "try:\n",
    "    print('Attempting to walk...')\n",
    "    for i in range(3):\n",
    "        time.sleep(1)\n",
    "        print('...')\n",
    "    walk()\n",
    "except NameError:\n",
    "    print('I just told you that wasnt going to work. You have to be an Animal in order to walk')\n"
   ]
  },
  {
   "cell_type": "code",
   "execution_count": 108,
   "metadata": {},
   "outputs": [
    {
     "data": {
      "text/plain": [
       "'Still Adam, but illustrating a point'"
      ]
     },
     "execution_count": 108,
     "metadata": {},
     "output_type": "execute_result"
    }
   ],
   "source": [
    "# reassigning variables\n",
    "adam.name = 'Still Adam, but illustrating a point'\n",
    "adam.name"
   ]
  },
  {
   "cell_type": "markdown",
   "metadata": {},
   "source": [
    "## Inheritance:\n",
    "* Classes can inherit attributes/ methods from other classes in order to create sub class: base class relationship"
   ]
  },
  {
   "cell_type": "code",
   "execution_count": 109,
   "metadata": {},
   "outputs": [],
   "source": [
    "# create new class \"Dog\" that inherits from Animal\n",
    "class Dog(Animal):\n",
    "    # also has to be initialized\n",
    "    def __init__(self, name):\n",
    "        self.name = name"
   ]
  },
  {
   "cell_type": "code",
   "execution_count": 110,
   "metadata": {},
   "outputs": [],
   "source": [
    "# instanciate new dog object\n",
    "fido = Dog('fido')"
   ]
  },
  {
   "cell_type": "code",
   "execution_count": 111,
   "metadata": {},
   "outputs": [
    {
     "name": "stdout",
     "output_type": "stream",
     "text": [
      "Fido is Type: <class '__main__.Dog'>\n",
      "Is Fido a Dog?\n",
      "\tTrue\n",
      "Is Fido an Animal?\n",
      "\tTrue\n",
      "Whoah! Does that mean Fido can walk?\n",
      "\t..Because Animals can walk!\n",
      "...\n",
      "...\n",
      "Yeah! Thats the entire purpose of this elaborate explanation, pay attention\n",
      "...\n",
      "Fido Walks like a generic Animal\n",
      "But I havent implemented a walk method for the dog class yet!\n",
      "...\n",
      "Thats still the point\n",
      "...\n",
      "What if I want dogs to walk differently than a generic Animal?\n",
      "...Seconds later polymorphism walks into the room, declaring \"Check this out!\"\n"
     ]
    }
   ],
   "source": [
    "# what is fido?\n",
    "print('Fido is Type: {}'.format(type(fido)))\n",
    "# check if Fido is an instance of Dog() (using isinstance(object, class))\n",
    "print('Is Fido a Dog?\\n\\t{}'.format(isinstance(fido, Dog)))\n",
    "print('Is Fido an Animal?\\n\\t{}'.format(isinstance(fido, Animal)))\n",
    "\n",
    "print('Whoah! Does that mean Fido can walk?\\n\\t..Because Animals can walk!\\n...\\n...')\n",
    "# Prompt: what is the \\ doing after the end of the string... if it wasn't there what would happen, why is it useful?\n",
    "print('Yeah! Thats the entire purpose of this elaborate explanation, pay attention\\n...\\n{}'\\\n",
    "          .format(''.join(['Fido', ' ',fido.walk()])))\n",
    "print('But I havent implemented a walk method for the dog class yet!\\n...\\nThats still the point\\n...')\n",
    "print('What if I want dogs to walk differently than a generic Animal?\\n...Seconds later polymorphism walks into the room, declaring \"Check this out!\"')"
   ]
  },
  {
   "cell_type": "code",
   "execution_count": 112,
   "metadata": {},
   "outputs": [],
   "source": [
    "# new dog class, with implemented walk method\n",
    "class Dog_V2(Animal):\n",
    "    # also has to be initialized\n",
    "    def __init__(self, name):\n",
    "        self.name = name\n",
    "    # Dog specific walk method\n",
    "    def walk(self):\n",
    "        # also note how i reference class attributes within the join statement (self.name)\n",
    "        return ''.join([self.name, ' ', 'Walks like a Dog!...Explosions of Excitement Ensue!!!'])"
   ]
  },
  {
   "cell_type": "code",
   "execution_count": 113,
   "metadata": {},
   "outputs": [
    {
     "data": {
      "text/plain": [
       "'Snoopy Walks like a Dog!...Explosions of Excitement Ensue!!!'"
      ]
     },
     "execution_count": 113,
     "metadata": {},
     "output_type": "execute_result"
    }
   ],
   "source": [
    "snoopy = Dog_V2('Snoopy')\n",
    "snoopy.walk()"
   ]
  },
  {
   "cell_type": "code",
   "execution_count": 114,
   "metadata": {},
   "outputs": [],
   "source": [
    "# is a versus has a:\n",
    "# a dog \"is a\" animal, so inheritance makes sense\n",
    "# here is an example of a \"Has a\" relationship\n",
    "\n",
    "# person class.. is a animal\n",
    "class Person(Animal):\n",
    "    # still has to be initialized \n",
    "    def __init__(self, name, dog=False, dog_name=None):\n",
    "        self.name = name\n",
    "        if dog:\n",
    "            # person has a dog, initialize dog object -> person attribute\n",
    "            self.dog = Dog_V2(dog_name)\n",
    "            \n",
    "    def walk(self, take_dog=False):\n",
    "        if take_dog:\n",
    "            # If person has a dog, that dog has a name that can be referenced\n",
    "            dog_name = self.dog.name\n",
    "            return '{} Takes his Dog {} for a walk'.format(self.name, dog_name)\n",
    "        else:\n",
    "            return '{} Walks around like a human'.format(self.name)"
   ]
  },
  {
   "cell_type": "code",
   "execution_count": 115,
   "metadata": {},
   "outputs": [],
   "source": [
    "# initialize person, who has a dog\n",
    "charlie_b = Person('Charlie Brown', dog=True, dog_name='Snoopy')"
   ]
  },
  {
   "cell_type": "code",
   "execution_count": 116,
   "metadata": {},
   "outputs": [
    {
     "data": {
      "text/plain": [
       "'Charlie Brown Walks around like a human'"
      ]
     },
     "execution_count": 116,
     "metadata": {},
     "output_type": "execute_result"
    }
   ],
   "source": [
    "# person walk method\n",
    "charlie_b.walk()"
   ]
  },
  {
   "cell_type": "code",
   "execution_count": 117,
   "metadata": {},
   "outputs": [
    {
     "data": {
      "text/plain": [
       "'Charlie Brown Takes his Dog Snoopy for a walk'"
      ]
     },
     "execution_count": 117,
     "metadata": {},
     "output_type": "execute_result"
    }
   ],
   "source": [
    "# person walk method with optional params\n",
    "charlie_b.walk(take_dog=True)"
   ]
  },
  {
   "cell_type": "code",
   "execution_count": 118,
   "metadata": {},
   "outputs": [
    {
     "data": {
      "text/plain": [
       "'Snoopy Walks like a Dog!...Explosions of Excitement Ensue!!!'"
      ]
     },
     "execution_count": 118,
     "metadata": {},
     "output_type": "execute_result"
    }
   ],
   "source": [
    "# class attribute also can do things\n",
    "charlie_b.dog.walk()"
   ]
  },
  {
   "cell_type": "code",
   "execution_count": 119,
   "metadata": {},
   "outputs": [
    {
     "name": "stdout",
     "output_type": "stream",
     "text": [
      "Doggy\n"
     ]
    },
    {
     "data": {
      "text/plain": [
       "'Doggy Walks like a Dog!...Explosions of Excitement Ensue!!!'"
      ]
     },
     "execution_count": 119,
     "metadata": {},
     "output_type": "execute_result"
    }
   ],
   "source": [
    "# or be it's own entity\n",
    "doggy = charlie_b.dog\n",
    "# and be who it wants to be\n",
    "doggy.name='Doggy'\n",
    "print(doggy.name)\n",
    "doggy.walk()"
   ]
  }
 ],
 "metadata": {
  "kernelspec": {
   "display_name": "Python 3",
   "language": "python",
   "name": "python3"
  },
  "language_info": {
   "codemirror_mode": {
    "name": "ipython",
    "version": 3
   },
   "file_extension": ".py",
   "mimetype": "text/x-python",
   "name": "python",
   "nbconvert_exporter": "python",
   "pygments_lexer": "ipython3",
   "version": "3.7.0"
  }
 },
 "nbformat": 4,
 "nbformat_minor": 2
}
