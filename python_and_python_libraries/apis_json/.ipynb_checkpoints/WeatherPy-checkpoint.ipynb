{
 "cells": [
  {
   "cell_type": "code",
   "execution_count": 1,
   "metadata": {
    "scrolled": true
   },
   "outputs": [],
   "source": [
    "# Dependencies and Setup\n",
    "import matplotlib.pyplot as plt\n",
    "import pandas as pd\n",
    "import numpy as np\n",
    "import requests\n",
    "import time\n",
    "\n",
    "# Import API key\n",
    "# import api_keys\n",
    "\n",
    "# Incorporated citipy to determine city based on latitude and longitude\n",
    "from citipy import citipy\n",
    "\n",
    "# Output File (CSV)\n",
    "output_data_file = \"output_data/cities.csv\"\n",
    "\n",
    "# Range of latitudes and longitudes\n",
    "lat_range = (-90, 90)\n",
    "lng_range = (-180, 180)"
   ]
  },
  {
   "cell_type": "markdown",
   "metadata": {},
   "source": [
    "## Generate Cities List"
   ]
  },
  {
   "cell_type": "code",
   "execution_count": 2,
   "metadata": {},
   "outputs": [
    {
     "data": {
      "text/plain": [
       "583"
      ]
     },
     "execution_count": 2,
     "metadata": {},
     "output_type": "execute_result"
    }
   ],
   "source": [
    "# List for holding lat_lngs and cities\n",
    "lat_lngs = []\n",
    "cities = []\n",
    "\n",
    "# Create a set of random lat and lng combinations\n",
    "lats = np.random.uniform(low=-90.000, high=90.000, size=1500)\n",
    "lngs = np.random.uniform(low=-180.000, high=180.000, size=1500)\n",
    "lat_lngs = zip(lats, lngs)\n",
    "\n",
    "# Identify nearest city for each lat, lng combination\n",
    "for lat_lng in lat_lngs:\n",
    "    city = citipy.nearest_city(lat_lng[0], lat_lng[1]).city_name\n",
    "    \n",
    "    # If the city is unique, then add it to a our cities list\n",
    "    if city not in cities:\n",
    "        cities.append(city)\n",
    "\n",
    "# Print the city count to confirm sufficient count\n",
    "len(cities)"
   ]
  },
  {
   "cell_type": "code",
   "execution_count": 7,
   "metadata": {},
   "outputs": [],
   "source": [
    "# make the dataframe\n",
    "city_df = pd.DataFrame({\"city\":cities})"
   ]
  },
  {
   "cell_type": "markdown",
   "metadata": {},
   "source": [
    "## Perform API Calls"
   ]
  },
  {
   "cell_type": "code",
   "execution_count": 13,
   "metadata": {},
   "outputs": [],
   "source": [
    "# OpenWeatherMap API Key\n",
    "api_key = Your Key here\n",
    "\n",
    "# Starting URL for Weather Map API Call\n",
    "url = \"http://api.openweathermap.org/data/2.5/weather?units=Imperial&APPID=\" + api_key \n",
    "\n",
    "# set up functino to grab required values\n",
    "def grab_values(city, url=url):\n",
    "    city_url = url + \"&q=\" + city\n",
    "    response_json = requests.get(city_url).json()\n",
    "    \n",
    "    try:\n",
    "        latitude = response_json[\"coord\"][\"lat\"]\n",
    "        longitude = response_json[\"coord\"][\"lon\"]\n",
    "        temperature = response_json[\"main\"][\"temp\"]\n",
    "        humidity = response_json[\"main\"][\"humidity\"]\n",
    "        cloudiness = response_json[\"clouds\"][\"all\"]\n",
    "        wind_speed = response_json[\"wind\"][\"speed\"]\n",
    "\n",
    "    except KeyError as E:\n",
    "        print(f\"Key error incurred on key: {E} while parsing json response from {city}\")\n",
    "        latitude = np.nan\n",
    "        longitude = np.nan\n",
    "        temperature = np.nan\n",
    "        humidity = np.nan\n",
    "        cloudiness = np.nan\n",
    "        wind_speed = np.nan\n",
    "        \n",
    "    return pd.Series([city, latitude, longitude, temperature, humidity, cloudiness, wind_speed], index=[\"city\", \"latitude\", \"longitude\", \"temperature\", \"humidity\", \"cloudiness\", \"wind_speed\"])"
   ]
  },
  {
   "cell_type": "code",
   "execution_count": 14,
   "metadata": {},
   "outputs": [
    {
     "data": {
      "text/html": [
       "<div>\n",
       "<style scoped>\n",
       "    .dataframe tbody tr th:only-of-type {\n",
       "        vertical-align: middle;\n",
       "    }\n",
       "\n",
       "    .dataframe tbody tr th {\n",
       "        vertical-align: top;\n",
       "    }\n",
       "\n",
       "    .dataframe thead th {\n",
       "        text-align: right;\n",
       "    }\n",
       "</style>\n",
       "<table border=\"1\" class=\"dataframe\">\n",
       "  <thead>\n",
       "    <tr style=\"text-align: right;\">\n",
       "      <th></th>\n",
       "      <th>city</th>\n",
       "      <th>latitude</th>\n",
       "      <th>longitude</th>\n",
       "      <th>temperature</th>\n",
       "      <th>humidity</th>\n",
       "      <th>cloudiness</th>\n",
       "      <th>wind_speed</th>\n",
       "    </tr>\n",
       "  </thead>\n",
       "  <tbody>\n",
       "    <tr>\n",
       "      <th>0</th>\n",
       "      <td>sevsk</td>\n",
       "      <td>52.15</td>\n",
       "      <td>34.49</td>\n",
       "      <td>80.67</td>\n",
       "      <td>43</td>\n",
       "      <td>0</td>\n",
       "      <td>5.39</td>\n",
       "    </tr>\n",
       "    <tr>\n",
       "      <th>1</th>\n",
       "      <td>chuy</td>\n",
       "      <td>-33.69</td>\n",
       "      <td>-53.46</td>\n",
       "      <td>58.35</td>\n",
       "      <td>85</td>\n",
       "      <td>92</td>\n",
       "      <td>22.73</td>\n",
       "    </tr>\n",
       "    <tr>\n",
       "      <th>2</th>\n",
       "      <td>villarrica</td>\n",
       "      <td>-39.28</td>\n",
       "      <td>-72.23</td>\n",
       "      <td>46.47</td>\n",
       "      <td>64</td>\n",
       "      <td>80</td>\n",
       "      <td>2.93</td>\n",
       "    </tr>\n",
       "    <tr>\n",
       "      <th>3</th>\n",
       "      <td>mahebourg</td>\n",
       "      <td>-20.41</td>\n",
       "      <td>57.70</td>\n",
       "      <td>73.40</td>\n",
       "      <td>73</td>\n",
       "      <td>40</td>\n",
       "      <td>12.75</td>\n",
       "    </tr>\n",
       "    <tr>\n",
       "      <th>4</th>\n",
       "      <td>albany</td>\n",
       "      <td>42.65</td>\n",
       "      <td>-73.75</td>\n",
       "      <td>62.56</td>\n",
       "      <td>75</td>\n",
       "      <td>90</td>\n",
       "      <td>3.36</td>\n",
       "    </tr>\n",
       "  </tbody>\n",
       "</table>\n",
       "</div>"
      ],
      "text/plain": [
       "         city  latitude  longitude  temperature  humidity  cloudiness  \\\n",
       "0       sevsk     52.15      34.49        80.67        43           0   \n",
       "1        chuy    -33.69     -53.46        58.35        85          92   \n",
       "2  villarrica    -39.28     -72.23        46.47        64          80   \n",
       "3   mahebourg    -20.41      57.70        73.40        73          40   \n",
       "4      albany     42.65     -73.75        62.56        75          90   \n",
       "\n",
       "   wind_speed  \n",
       "0        5.39  \n",
       "1       22.73  \n",
       "2        2.93  \n",
       "3       12.75  \n",
       "4        3.36  "
      ]
     },
     "execution_count": 14,
     "metadata": {},
     "output_type": "execute_result"
    }
   ],
   "source": [
    "combined = pd.merge(\n",
    "    city_df.iloc[:5], \n",
    "    city_df.loc[:5,'city'].apply(grab_values),\n",
    "    on='city')\\\n",
    "    .dropna(axis=0,how='any')\n",
    "combined"
   ]
  },
  {
   "cell_type": "code",
   "execution_count": null,
   "metadata": {},
   "outputs": [],
   "source": []
  }
 ],
 "metadata": {
  "anaconda-cloud": {},
  "kernelspec": {
   "display_name": "Python 3",
   "language": "python",
   "name": "python3"
  },
  "language_info": {
   "codemirror_mode": {
    "name": "ipython",
    "version": 3
   },
   "file_extension": ".py",
   "mimetype": "text/x-python",
   "name": "python",
   "nbconvert_exporter": "python",
   "pygments_lexer": "ipython3",
   "version": "3.7.1"
  }
 },
 "nbformat": 4,
 "nbformat_minor": 1
}
