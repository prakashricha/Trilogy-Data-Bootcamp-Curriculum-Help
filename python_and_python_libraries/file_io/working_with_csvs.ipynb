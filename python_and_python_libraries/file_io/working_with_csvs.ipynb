{
 "cells": [
  {
   "cell_type": "markdown",
   "metadata": {},
   "source": [
    "# Reading from csv\n",
    "* This document attempts to provide basic syntax and a few examples of converting csvs into various python objects. "
   ]
  },
  {
   "cell_type": "markdown",
   "metadata": {},
   "source": [
    "## Setup"
   ]
  },
  {
   "cell_type": "code",
   "execution_count": 4,
   "metadata": {},
   "outputs": [
    {
     "data": {
      "text/html": [
       "<style>.container { width:100% !important; }</style>"
      ],
      "text/plain": [
       "<IPython.core.display.HTML object>"
      ]
     },
     "metadata": {},
     "output_type": "display_data"
    }
   ],
   "source": [
    "import csv \n",
    "# Extend notebook viewport\n",
    "from IPython.core.display import display, HTML\n",
    "display(HTML(\"<style>.container { width:100% !important; }</style>\"))"
   ]
  },
  {
   "cell_type": "code",
   "execution_count": 5,
   "metadata": {},
   "outputs": [
    {
     "name": "stdout",
     "output_type": "stream",
     "text": [
      "\u001b[0m\u001b[01;34mdata\u001b[0m/  Pypoll_starter.ipynb  working_with_csvs.ipynb\r\n"
     ]
    }
   ],
   "source": [
    "# magic function to list directories\n",
    "    # you will see that there are no csvs here, that is because I have the sample data within a data directory\n",
    "%ls "
   ]
  },
  {
   "cell_type": "code",
   "execution_count": 7,
   "metadata": {},
   "outputs": [
    {
     "name": "stdout",
     "output_type": "stream",
     "text": [
      "SalesJan2009.csv\r\n"
     ]
    }
   ],
   "source": [
    "# If I list the contents of that directory you will see the file I am looking for: SalesJan2009.csv\n",
    "%ls ../../data"
   ]
  },
  {
   "cell_type": "code",
   "execution_count": 9,
   "metadata": {},
   "outputs": [],
   "source": [
    "# this means that I want to reference a file that is:\n",
    "    # one directory up: ..\n",
    "    # inside a data subdirectory: data\n",
    "    # called SalesJan2009.csv: : name\n",
    "csv_path = '../../data/SalesJan2009.csv'"
   ]
  },
  {
   "cell_type": "markdown",
   "metadata": {},
   "source": [
    "## Example: Read and Print"
   ]
  },
  {
   "cell_type": "code",
   "execution_count": 10,
   "metadata": {},
   "outputs": [
    {
     "name": "stdout",
     "output_type": "stream",
     "text": [
      "['Transaction_date', 'Product', 'Price', 'Payment_Type', 'Name', 'City', 'State', 'Country', 'Account_Created', 'Last_Login', 'Latitude', 'Longitude']\n",
      "['1/2/09 6:17', 'Product1', '1200', 'Mastercard', 'carolina', 'Basildon', 'England', 'United Kingdom', '1/2/09 6:00', '1/2/09 6:08', '51.5', '-1.1166667']\n",
      "['1/2/09 4:53', 'Product1', '1200', 'Visa', 'Betina', 'Parkville                   ', 'MO', 'United States', '1/2/09 4:42', '1/2/09 7:49', '39.195', '-94.68194']\n",
      "['1/2/09 13:08', 'Product1', '1200', 'Mastercard', 'Federica e Andrea', 'Astoria                     ', 'OR', 'United States', '1/1/09 16:21', '1/3/09 12:32', '46.18806', '-123.83']\n",
      "['1/3/09 14:44', 'Product1', '1200', 'Visa', 'Gouya', 'Echuca', 'Victoria', 'Australia', '9/25/05 21:13', '1/3/09 14:22', '-36.1333333', '144.75']\n"
     ]
    }
   ],
   "source": [
    "# example: reading csv\n",
    "    # with open(file location, method {'r': 'read', 'w': 'write, rb: read bytes, wb: write bytes, etc.}) as some name: do stuff\n",
    "with open(csv_path, 'r') as alias:\n",
    "    # increment counter\n",
    "    i = 0\n",
    "    # csv.reader returns an iterable (each iteration returns a line of the file)\n",
    "    for line in csv.reader(alias):\n",
    "        # first pass through, just printing the first 5 lines\n",
    "        print(line)\n",
    "        # break after 5 lines\n",
    "        if i>=4:\n",
    "            break\n",
    "        # increment counter\n",
    "        i+=1\n",
    "        "
   ]
  },
  {
   "cell_type": "markdown",
   "metadata": {},
   "source": [
    "## Strategies for working with csvs\n",
    "* Below I am laying out a few strategies that I have used to work with csv's.\n",
    "* This is obviously not an exhaustive list "
   ]
  },
  {
   "cell_type": "markdown",
   "metadata": {},
   "source": [
    "### Append to external list, then work with list"
   ]
  },
  {
   "cell_type": "code",
   "execution_count": 6,
   "metadata": {},
   "outputs": [
    {
     "name": "stdout",
     "output_type": "stream",
     "text": [
      "Columns: ['Transaction_date', 'Product', 'Price', 'Payment_Type', 'Name', 'City', 'State', 'Country', 'Account_Created', 'Last_Login', 'Latitude', 'Longitude']\n",
      "CSV Contents: (first 5 rows, formatted)\n",
      "\t1/2/09 6:17, Product1, 1200, Mastercard, carolina, Basildon, England, United Kingdom, 1/2/09 6:00, 1/2/09 6:08, 51.5, -1.1166667\n",
      "\t1/2/09 4:53, Product1, 1200, Visa, Betina, Parkville                   , MO, United States, 1/2/09 4:42, 1/2/09 7:49, 39.195, -94.68194\n",
      "\t1/2/09 13:08, Product1, 1200, Mastercard, Federica e Andrea, Astoria                     , OR, United States, 1/1/09 16:21, 1/3/09 12:32, 46.18806, -123.83\n",
      "\t1/3/09 14:44, Product1, 1200, Visa, Gouya, Echuca, Victoria, Australia, 9/25/05 21:13, 1/3/09 14:22, -36.1333333, 144.75\n",
      "\t1/4/09 12:56, Product2, 3600, Visa, Gerd W , Cahaba Heights              , AL, United States, 11/15/08 15:47, 1/4/09 12:45, 33.52056, -86.8025\n"
     ]
    }
   ],
   "source": [
    "# create list to carry each row\n",
    "csv_contents = []\n",
    "# open statement\n",
    "with open(csv_path, 'r') as alias:\n",
    "    # counter\n",
    "    i = 0\n",
    "    # csv.reader returns an iterable (each iteration returns a line of the file)\n",
    "    for line in csv.reader(alias):\n",
    "        # handle first line (column headers) differently\n",
    "        if i == 0:\n",
    "            columns = line\n",
    "            i+=1\n",
    "        else:\n",
    "            csv_contents.append(line)\n",
    "            \n",
    "print(f\"Columns: {columns}\")\n",
    "# ignore the wonky string formatting\n",
    "print(\n",
    "    \"CSV Contents: (first 5 rows, formatted)\\n\\t{}\".format(\n",
    "        '\\n\\t'.join(\n",
    "            [', '.join(row) for row in csv_contents[:5]]\n",
    "        )\n",
    "    )\n",
    ")"
   ]
  },
  {
   "cell_type": "markdown",
   "metadata": {},
   "source": [
    "### Create column specific Dictionary, then work with columns as lists"
   ]
  },
  {
   "cell_type": "code",
   "execution_count": 7,
   "metadata": {},
   "outputs": [
    {
     "name": "stdout",
     "output_type": "stream",
     "text": [
      "This is what columns looks like: ['Transaction_date', 'Product', 'Price', 'Payment_Type', 'Name', 'City', 'State', 'Country', 'Account_Created', 'Last_Login', 'Latitude', 'Longitude']\n",
      "\n",
      "This is what zip(columns, line) returns: (With some additional formatting added)\n",
      "\t Transaction_date: 1/2/09 6:17\n",
      "\tProduct: Product1\n",
      "\tPrice: 1200\n",
      "\tPayment_Type: Mastercard\n",
      "\tName: carolina\n",
      "\tCity: Basildon\n",
      "\tState: England\n",
      "\tCountry: United Kingdom\n",
      "\tAccount_Created: 1/2/09 6:00\n",
      "\tLast_Login: 1/2/09 6:08\n",
      "\tLatitude: 51.5\n",
      "\tLongitude: -1.1166667\n",
      "\n",
      "Output:\n",
      "Dictionary Keys: \n",
      "\tdict_keys(['Transaction_date', 'Product', 'Price', 'Payment_Type', 'Name', 'City', 'State', 'Country', 'Account_Created', 'Last_Login', 'Latitude', 'Longitude'])\n",
      "Example Values List (truncated): \n",
      "\t ['United Kingdom', 'United States', 'United States', 'Australia', 'United States', 'United States', 'United States', 'United States', 'Israel', 'France']\n"
     ]
    }
   ],
   "source": [
    "# create dictionary to carry columns \n",
    "csv_columns = {}\n",
    "# open statement\n",
    "with open(csv_path, 'r') as alias:\n",
    "    # counter\n",
    "    i = 0\n",
    "    # csv.reader returns an iterable (each iteration returns a line of the file)\n",
    "    for line in csv.reader(alias):\n",
    "        # handle first line (column headers) differently\n",
    "        if i == 0:\n",
    "            # create list to hold column names\n",
    "            columns = line\n",
    "            print(f\"This is what columns looks like: {columns}\")\n",
    "            # create a dictionary key with an empty list for each column\n",
    "            for column_name in columns:\n",
    "                csv_columns[column_name] = []\n",
    "            # increment counter\n",
    "            i+=1\n",
    "        else:\n",
    "            # for the first round through lets print out what the zipped object looks like \n",
    "            if i==1:\n",
    "                print(\"\\nThis is what zip(columns, line) returns: (With some additional formatting added)\\n\\t\",\n",
    "                    \"\\n\\t\".join(\n",
    "                        [f\"{col}: {val}\" for col, val in zip(columns, line)]\n",
    "                    )\n",
    "                )\n",
    "                # increment counter \n",
    "                i+=1\n",
    "            # iterate through each column in the line, using zip to make column names available for dictionary mapping\n",
    "            for column_name, value in zip(columns, line):\n",
    "                # append value to columns list in csv_columns dictionary\n",
    "                csv_columns[column_name].append(value)\n",
    "\n",
    "# now we have a dictionary that has a key for each column, with a list of each value as its key\n",
    "print(f'\\nOutput:\\nDictionary Keys: \\n\\t{csv_columns.keys()}')\n",
    "print(f'Example Values List (truncated): \\n\\t {csv_columns[\"Country\"][:10]}')"
   ]
  },
  {
   "cell_type": "markdown",
   "metadata": {},
   "source": [
    "### Implement filtering/ logic/ etc. while reading\n",
    "* In this example Assume that I only want to answer: \"What is the average purchase price in America?\"\n",
    "* For this we don't need to store the whole csv in memory, but rather we can pull out necessary values while reading, then discard the rest"
   ]
  },
  {
   "cell_type": "code",
   "execution_count": 8,
   "metadata": {},
   "outputs": [
    {
     "name": "stdout",
     "output_type": "stream",
     "text": [
      "Columns: ['Transaction_date', 'Product', 'Price', 'Payment_Type', 'Name', 'City', 'State', 'Country', 'Account_Created', 'Last_Login', 'Latitude', 'Longitude']\n",
      "Column: \"Price\" is in position: 2\n",
      "Column: \"Country\" is in position: 7\n",
      "Current dictionary: {'Price': 2, 'Country': 7}\n",
      "The average price of a transaction in United States is : $1619.87\n",
      "This was caluculated by taking the Sum of purchases: 750000\n",
      "\tDivided by the total number of purchases: 463\n"
     ]
    }
   ],
   "source": [
    "# create variables to hold values \n",
    "running_sum, n_entries = 0,0\n",
    "# define the columns we want, and a space that we can insert the index location\n",
    "col_idxs = {'Price': None, 'Country': None}\n",
    "country_match = \"United States\"\n",
    "\n",
    "# open statement\n",
    "with open(csv_path, 'r') as alias:\n",
    "    # counter\n",
    "    i = 0\n",
    "    # csv.reader returns an iterable (each iteration returns a line of the file)\n",
    "    for line in csv.reader(alias):\n",
    "        # with the columns row, lets find the index of the price and country column \n",
    "        if i ==0:\n",
    "            print(f\"Columns: {line}\")\n",
    "            # find index location of each defined dictionary key\n",
    "            for k in col_idxs.keys():\n",
    "                idx = line.index(k)\n",
    "                print(f\"Column: \\\"{k}\\\" is in position: {idx}\")\n",
    "                col_idxs[k] = idx\n",
    "            print(f\"Current dictionary: {col_idxs}\")\n",
    "            i+=1\n",
    "        else:\n",
    "            # evaluate if line element in position of matched index matches country_match value\n",
    "            if line[col_idxs['Country']] == country_match:\n",
    "                # if yes: grab price value (and convert to int), increment n_entries, add value to running_sum\n",
    "                val = line[col_idxs['Price']]\n",
    "                # some prices are delimeted with ,'s: handle this\n",
    "                if ',' in val:\n",
    "                    # replace , with nothing\n",
    "                    val = val.replace(',','')\n",
    "                # now cast as integer\n",
    "                val = int(val)\n",
    "                running_sum += val\n",
    "                n_entries += 1\n",
    "            \n",
    "# calculate average\n",
    "print(f\"The average price of a transaction in {country_match} is : ${round(running_sum/n_entries, 2)}\")\n",
    "print(f\"This was caluculated by taking the Sum of purchases: {running_sum}\\n\\tDivided by the total number of purchases: {n_entries}\")"
   ]
  },
  {
   "cell_type": "markdown",
   "metadata": {},
   "source": [
    "### Read CSV with Pandas, then work with dataframe\n",
    "* Moving Forward, this will be the main method of doing this (Because, as you will see, it's really easy)"
   ]
  },
  {
   "cell_type": "code",
   "execution_count": 9,
   "metadata": {},
   "outputs": [],
   "source": [
    "# import module\n",
    "import pandas as pd\n",
    "# read_csv into df variable\n",
    "df = pd.read_csv(csv_path, header=0, parse_dates=[0, 8, 9])"
   ]
  },
  {
   "cell_type": "code",
   "execution_count": 10,
   "metadata": {},
   "outputs": [
    {
     "data": {
      "text/html": [
       "<div>\n",
       "<style scoped>\n",
       "    .dataframe tbody tr th:only-of-type {\n",
       "        vertical-align: middle;\n",
       "    }\n",
       "\n",
       "    .dataframe tbody tr th {\n",
       "        vertical-align: top;\n",
       "    }\n",
       "\n",
       "    .dataframe thead th {\n",
       "        text-align: right;\n",
       "    }\n",
       "</style>\n",
       "<table border=\"1\" class=\"dataframe\">\n",
       "  <thead>\n",
       "    <tr style=\"text-align: right;\">\n",
       "      <th></th>\n",
       "      <th>Transaction_date</th>\n",
       "      <th>Product</th>\n",
       "      <th>Price</th>\n",
       "      <th>Payment_Type</th>\n",
       "      <th>Name</th>\n",
       "      <th>City</th>\n",
       "      <th>State</th>\n",
       "      <th>Country</th>\n",
       "      <th>Account_Created</th>\n",
       "      <th>Last_Login</th>\n",
       "      <th>Latitude</th>\n",
       "      <th>Longitude</th>\n",
       "    </tr>\n",
       "  </thead>\n",
       "  <tbody>\n",
       "    <tr>\n",
       "      <th>0</th>\n",
       "      <td>2009-01-02 06:17:00</td>\n",
       "      <td>Product1</td>\n",
       "      <td>1200</td>\n",
       "      <td>Mastercard</td>\n",
       "      <td>carolina</td>\n",
       "      <td>Basildon</td>\n",
       "      <td>England</td>\n",
       "      <td>United Kingdom</td>\n",
       "      <td>2009-01-02 06:00:00</td>\n",
       "      <td>2009-01-02 06:08:00</td>\n",
       "      <td>51.500000</td>\n",
       "      <td>-1.116667</td>\n",
       "    </tr>\n",
       "    <tr>\n",
       "      <th>1</th>\n",
       "      <td>2009-01-02 04:53:00</td>\n",
       "      <td>Product1</td>\n",
       "      <td>1200</td>\n",
       "      <td>Visa</td>\n",
       "      <td>Betina</td>\n",
       "      <td>Parkville</td>\n",
       "      <td>MO</td>\n",
       "      <td>United States</td>\n",
       "      <td>2009-01-02 04:42:00</td>\n",
       "      <td>2009-01-02 07:49:00</td>\n",
       "      <td>39.195000</td>\n",
       "      <td>-94.681940</td>\n",
       "    </tr>\n",
       "    <tr>\n",
       "      <th>2</th>\n",
       "      <td>2009-01-02 13:08:00</td>\n",
       "      <td>Product1</td>\n",
       "      <td>1200</td>\n",
       "      <td>Mastercard</td>\n",
       "      <td>Federica e Andrea</td>\n",
       "      <td>Astoria</td>\n",
       "      <td>OR</td>\n",
       "      <td>United States</td>\n",
       "      <td>2009-01-01 16:21:00</td>\n",
       "      <td>2009-01-03 12:32:00</td>\n",
       "      <td>46.188060</td>\n",
       "      <td>-123.830000</td>\n",
       "    </tr>\n",
       "    <tr>\n",
       "      <th>3</th>\n",
       "      <td>2009-01-03 14:44:00</td>\n",
       "      <td>Product1</td>\n",
       "      <td>1200</td>\n",
       "      <td>Visa</td>\n",
       "      <td>Gouya</td>\n",
       "      <td>Echuca</td>\n",
       "      <td>Victoria</td>\n",
       "      <td>Australia</td>\n",
       "      <td>2005-09-25 21:13:00</td>\n",
       "      <td>2009-01-03 14:22:00</td>\n",
       "      <td>-36.133333</td>\n",
       "      <td>144.750000</td>\n",
       "    </tr>\n",
       "    <tr>\n",
       "      <th>4</th>\n",
       "      <td>2009-01-04 12:56:00</td>\n",
       "      <td>Product2</td>\n",
       "      <td>3600</td>\n",
       "      <td>Visa</td>\n",
       "      <td>Gerd W</td>\n",
       "      <td>Cahaba Heights</td>\n",
       "      <td>AL</td>\n",
       "      <td>United States</td>\n",
       "      <td>2008-11-15 15:47:00</td>\n",
       "      <td>2009-01-04 12:45:00</td>\n",
       "      <td>33.520560</td>\n",
       "      <td>-86.802500</td>\n",
       "    </tr>\n",
       "  </tbody>\n",
       "</table>\n",
       "</div>"
      ],
      "text/plain": [
       "     Transaction_date   Product Price Payment_Type               Name  \\\n",
       "0 2009-01-02 06:17:00  Product1  1200   Mastercard           carolina   \n",
       "1 2009-01-02 04:53:00  Product1  1200         Visa             Betina   \n",
       "2 2009-01-02 13:08:00  Product1  1200   Mastercard  Federica e Andrea   \n",
       "3 2009-01-03 14:44:00  Product1  1200         Visa              Gouya   \n",
       "4 2009-01-04 12:56:00  Product2  3600         Visa            Gerd W    \n",
       "\n",
       "                           City     State         Country     Account_Created  \\\n",
       "0                      Basildon   England  United Kingdom 2009-01-02 06:00:00   \n",
       "1  Parkville                           MO   United States 2009-01-02 04:42:00   \n",
       "2  Astoria                             OR   United States 2009-01-01 16:21:00   \n",
       "3                        Echuca  Victoria       Australia 2005-09-25 21:13:00   \n",
       "4  Cahaba Heights                      AL   United States 2008-11-15 15:47:00   \n",
       "\n",
       "           Last_Login   Latitude   Longitude  \n",
       "0 2009-01-02 06:08:00  51.500000   -1.116667  \n",
       "1 2009-01-02 07:49:00  39.195000  -94.681940  \n",
       "2 2009-01-03 12:32:00  46.188060 -123.830000  \n",
       "3 2009-01-03 14:22:00 -36.133333  144.750000  \n",
       "4 2009-01-04 12:45:00  33.520560  -86.802500  "
      ]
     },
     "execution_count": 10,
     "metadata": {},
     "output_type": "execute_result"
    }
   ],
   "source": [
    "# print first five rows of dataframe\n",
    "df.head()"
   ]
  },
  {
   "cell_type": "markdown",
   "metadata": {},
   "source": [
    "# Summary\n",
    "Hopefully these examples will help provide a couple examples of how you may convert csvs into a python data type that you are familiar with. Obviously, there are unlimited ways that you could accomplish the same tasks. Regardless, with these examples as templates, you should be able to modify the existing code to personalize your unique approach. I hope you enjoyed this demo!"
   ]
  }
 ],
 "metadata": {
  "kernelspec": {
   "display_name": "Python 3",
   "language": "python",
   "name": "python3"
  },
  "language_info": {
   "codemirror_mode": {
    "name": "ipython",
    "version": 3
   },
   "file_extension": ".py",
   "mimetype": "text/x-python",
   "name": "python",
   "nbconvert_exporter": "python",
   "pygments_lexer": "ipython3",
   "version": "3.7.1"
  }
 },
 "nbformat": 4,
 "nbformat_minor": 2
}
