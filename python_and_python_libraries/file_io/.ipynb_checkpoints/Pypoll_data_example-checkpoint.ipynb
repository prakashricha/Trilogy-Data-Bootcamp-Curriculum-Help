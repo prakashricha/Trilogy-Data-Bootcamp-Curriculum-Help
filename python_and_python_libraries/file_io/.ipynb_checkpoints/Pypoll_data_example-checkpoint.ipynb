{
 "cells": [
  {
   "cell_type": "markdown",
   "metadata": {},
   "source": [
    "# Demo: reading csv using pypoll data"
   ]
  },
  {
   "cell_type": "code",
   "execution_count": 1,
   "metadata": {},
   "outputs": [],
   "source": [
    "# imports\n",
    "import csv"
   ]
  },
  {
   "cell_type": "code",
   "execution_count": 2,
   "metadata": {},
   "outputs": [
    {
     "name": "stdout",
     "output_type": "stream",
     "text": [
      "\u001b[0m\u001b[01;34mdata\u001b[0m/  Pypoll_starter.ipynb  working_with_csvs.ipynb\r\n"
     ]
    }
   ],
   "source": [
    "# Jupyter Notebook magic command: list directory contents\n",
    "%ls"
   ]
  },
  {
   "cell_type": "code",
   "execution_count": 3,
   "metadata": {},
   "outputs": [
    {
     "name": "stdout",
     "output_type": "stream",
     "text": [
      "pypoll_data.csv\r\n"
     ]
    }
   ],
   "source": [
    "# list contents of data\n",
    "%ls data\n",
    "    # there's our csv "
   ]
  },
  {
   "cell_type": "markdown",
   "metadata": {},
   "source": [
    "# CSV parsing into python list"
   ]
  },
  {
   "cell_type": "code",
   "execution_count": 4,
   "metadata": {},
   "outputs": [],
   "source": [
    "# reference file location: in data subdir, called pypoll_data.csv\n",
    "file_to_load = 'data/pypoll_data.csv'\n",
    "# set  up list to carry each row\n",
    "file_data = []\n",
    "\n",
    "# open file\n",
    "with open(file_to_load, 'r') as f:\n",
    "    # variable assignment to check for first row of csv (column headers)\n",
    "    first_line=True\n",
    "    # iterate through csv reader generator\n",
    "    for line in csv.reader(f):\n",
    "        # check first line \n",
    "        if first_line==True:\n",
    "            # grab column headers\n",
    "            columns = line\n",
    "            # change variable value so the next line reads as data !columns\n",
    "            first_line=False \n",
    "        # execute if not first line\n",
    "        else:\n",
    "            # add row to file_data list\n",
    "            file_data.append(line)\n",
    "           "
   ]
  },
  {
   "cell_type": "markdown",
   "metadata": {},
   "source": [
    "## Output"
   ]
  },
  {
   "cell_type": "code",
   "execution_count": 5,
   "metadata": {},
   "outputs": [
    {
     "data": {
      "text/plain": [
       "[['12864552', 'Marsh', 'Khan'],\n",
       " ['17444633', 'Marsh', 'Correy'],\n",
       " ['19330107', 'Marsh', 'Khan'],\n",
       " ['19865775', 'Queen', 'Khan'],\n",
       " ['11927875', 'Marsh', 'Khan'],\n",
       " ['19014606', 'Marsh', 'Li'],\n",
       " ['17775191', 'Queen', 'Correy'],\n",
       " ['14003692', 'Marsh', 'Khan'],\n",
       " ['14255761', 'Marsh', 'Khan'],\n",
       " ['13870173', 'Marsh', 'Correy'],\n",
       " ['16793141', 'Marsh', 'Khan'],\n",
       " ['10591158', 'Bamoo', 'Correy'],\n",
       " ['12344763', 'Trandee', 'Khan'],\n",
       " ['18611011', 'Marsh', 'Khan'],\n",
       " ['17845903', 'Marsh', 'Correy'],\n",
       " ['12621425', 'Trandee', 'Khan'],\n",
       " ['14365844', 'Marsh', 'Correy'],\n",
       " ['13444989', 'Marsh', 'Correy'],\n",
       " ['19204501', 'Trandee', 'Khan'],\n",
       " ['10098063', 'Queen', 'Correy'],\n",
       " ['19843246', 'Marsh', 'Correy'],\n",
       " ['11509120', 'Marsh', 'Correy'],\n",
       " ['13402499', 'Marsh', 'Correy'],\n",
       " ['18138694', 'Marsh', 'Khan'],\n",
       " ['15056703', 'Marsh', 'Khan'],\n",
       " ['12026178', 'Queen', 'Khan'],\n",
       " ['16667390', 'Marsh', 'Khan'],\n",
       " ['12847422', 'Queen', 'Khan'],\n",
       " ['10599242', 'Marsh', 'Khan'],\n",
       " ['18558857', 'Queen', 'Correy'],\n",
       " ['19533707', 'Queen', 'Correy'],\n",
       " ['13360545', 'Marsh', 'Khan'],\n",
       " ['13212178', 'Queen', 'Khan'],\n",
       " ['11154929', 'Marsh', 'Khan'],\n",
       " ['19602413', 'Marsh', 'Khan'],\n",
       " ['15405592', 'Marsh', 'Khan'],\n",
       " ['19561790', 'Marsh', 'Khan'],\n",
       " ['17094559', 'Marsh', 'Li'],\n",
       " ['18233965', 'Marsh', 'Li'],\n",
       " ['19984144', 'Marsh', 'Khan'],\n",
       " ['16973343', 'Trandee', 'Khan'],\n",
       " ['17295190', 'Marsh', 'Khan'],\n",
       " ['18554319', 'Marsh', 'Khan'],\n",
       " ['15611748', 'Raffah', 'Khan'],\n",
       " ['12354752', 'Marsh', 'Khan'],\n",
       " ['19600774', 'Marsh', 'Khan'],\n",
       " ['18121503', 'Bamoo', \"O'Tooley\"],\n",
       " ['16911714', 'Marsh', 'Khan'],\n",
       " ['14187424', 'Marsh', 'Khan'],\n",
       " ['12753806', 'Marsh', 'Khan'],\n",
       " ['12558332', 'Marsh', 'Khan'],\n",
       " ['12135098', 'Marsh', 'Khan'],\n",
       " ['10985784', 'Queen', 'Khan'],\n",
       " ['16471243', 'Marsh', 'Li'],\n",
       " ['14671650', 'Bamoo', 'Li'],\n",
       " ['18678460', 'Marsh', 'Li'],\n",
       " ['19697964', 'Bamoo', 'Khan'],\n",
       " ['13317391', 'Marsh', 'Khan'],\n",
       " ['10546494', 'Marsh', 'Correy'],\n",
       " ['17187093', 'Marsh', 'Khan'],\n",
       " ['16592767', 'Marsh', 'Khan'],\n",
       " ['10495056', 'Queen', 'Khan'],\n",
       " ['18469894', 'Marsh', 'Khan'],\n",
       " ['16986900', 'Queen', 'Correy'],\n",
       " ['10354536', 'Marsh', 'Khan'],\n",
       " ['15503560', 'Queen', 'Khan'],\n",
       " ['12455481', 'Marsh', 'Khan'],\n",
       " ['19288647', 'Queen', \"O'Tooley\"],\n",
       " ['14628255', 'Marsh', 'Li'],\n",
       " ['12204953', 'Marsh', 'Khan'],\n",
       " ['11898633', 'Bamoo', 'Correy'],\n",
       " ['15507376', 'Queen', 'Khan'],\n",
       " ['15568341', 'Marsh', 'Khan'],\n",
       " ['11893229', 'Queen', 'Khan'],\n",
       " ['11959936', 'Marsh', 'Khan'],\n",
       " ['13983895', 'Marsh', 'Khan'],\n",
       " ['10681107', 'Marsh', 'Correy'],\n",
       " ['13159206', 'Marsh', 'Khan'],\n",
       " ['17526080', 'Marsh', 'Khan'],\n",
       " ['18778133', 'Queen', 'Khan'],\n",
       " ['18908438', 'Marsh', 'Li'],\n",
       " ['19043853', 'Marsh', 'Khan'],\n",
       " ['16923106', 'Marsh', 'Khan'],\n",
       " ['15687359', 'Marsh', 'Khan'],\n",
       " ['12873603', 'Queen', 'Khan'],\n",
       " ['14208674', 'Bamoo', 'Khan'],\n",
       " ['15327117', 'Marsh', 'Khan'],\n",
       " ['17286320', 'Marsh', 'Khan'],\n",
       " ['12522584', 'Marsh', 'Khan'],\n",
       " ['19231755', 'Queen', 'Khan'],\n",
       " ['13073690', 'Marsh', 'Khan'],\n",
       " ['13457436', 'Trandee', 'Khan'],\n",
       " ['19973957', 'Queen', 'Khan'],\n",
       " ['10315605', 'Trandee', 'Khan'],\n",
       " ['12936845', 'Marsh', 'Correy'],\n",
       " ['18052904', 'Bamoo', 'Khan'],\n",
       " ['15563039', 'Marsh', 'Khan'],\n",
       " ['10146708', 'Marsh', 'Khan'],\n",
       " ['15152016', 'Marsh', 'Khan'],\n",
       " ['15235971', 'Marsh', 'Khan'],\n",
       " ['17631127', 'Marsh', 'Khan'],\n",
       " ['11012216', 'Queen', 'Li'],\n",
       " ['10687887', 'Marsh', 'Khan'],\n",
       " ['11555429', 'Marsh', 'Khan'],\n",
       " ['17333717', 'Marsh', 'Li'],\n",
       " ['18087110', 'Marsh', 'Correy'],\n",
       " ['12373068', 'Marsh', 'Khan'],\n",
       " ['11332203', 'Queen', 'Correy']]"
      ]
     },
     "execution_count": 5,
     "metadata": {},
     "output_type": "execute_result"
    }
   ],
   "source": [
    "# look at data ob\n",
    "file_data"
   ]
  },
  {
   "cell_type": "code",
   "execution_count": 6,
   "metadata": {},
   "outputs": [
    {
     "data": {
      "text/plain": [
       "['Voter ID', 'County', 'Candidate']"
      ]
     },
     "execution_count": 6,
     "metadata": {},
     "output_type": "execute_result"
    }
   ],
   "source": [
    "# look @ columns \n",
    "columns"
   ]
  },
  {
   "cell_type": "code",
   "execution_count": 7,
   "metadata": {},
   "outputs": [
    {
     "data": {
      "text/plain": [
       "'Candidate'"
      ]
     },
     "execution_count": 7,
     "metadata": {},
     "output_type": "execute_result"
    }
   ],
   "source": [
    "# find index of candidate\n",
    "columns[2]"
   ]
  },
  {
   "cell_type": "code",
   "execution_count": 8,
   "metadata": {},
   "outputs": [
    {
     "data": {
      "text/plain": [
       "2"
      ]
     },
     "execution_count": 8,
     "metadata": {},
     "output_type": "execute_result"
    }
   ],
   "source": [
    "# alternative find index of candidate\n",
    "columns.index('Candidate')"
   ]
  },
  {
   "cell_type": "markdown",
   "metadata": {},
   "source": [
    "## Do something with parsed data"
   ]
  },
  {
   "cell_type": "code",
   "execution_count": 9,
   "metadata": {},
   "outputs": [
    {
     "name": "stdout",
     "output_type": "stream",
     "text": [
      "Candidate: Khan County: Marsh Voter ID: 12864552\n",
      "Candidate: Correy County: Marsh Voter ID: 17444633\n",
      "Candidate: Khan County: Marsh Voter ID: 19330107\n",
      "Candidate: Khan County: Queen Voter ID: 19865775\n",
      "Candidate: Khan County: Marsh Voter ID: 11927875\n",
      "Candidate: Li County: Marsh Voter ID: 19014606\n",
      "Candidate: Correy County: Queen Voter ID: 17775191\n",
      "Candidate: Khan County: Marsh Voter ID: 14003692\n",
      "Candidate: Khan County: Marsh Voter ID: 14255761\n",
      "Candidate: Correy County: Marsh Voter ID: 13870173\n",
      "Candidate: Khan County: Marsh Voter ID: 16793141\n",
      "Candidate: Correy County: Bamoo Voter ID: 10591158\n",
      "Candidate: Khan County: Trandee Voter ID: 12344763\n",
      "Candidate: Khan County: Marsh Voter ID: 18611011\n",
      "Candidate: Correy County: Marsh Voter ID: 17845903\n",
      "Candidate: Khan County: Trandee Voter ID: 12621425\n",
      "Candidate: Correy County: Marsh Voter ID: 14365844\n",
      "Candidate: Correy County: Marsh Voter ID: 13444989\n",
      "Candidate: Khan County: Trandee Voter ID: 19204501\n",
      "Candidate: Correy County: Queen Voter ID: 10098063\n",
      "Candidate: Correy County: Marsh Voter ID: 19843246\n",
      "Candidate: Correy County: Marsh Voter ID: 11509120\n",
      "Candidate: Correy County: Marsh Voter ID: 13402499\n",
      "Candidate: Khan County: Marsh Voter ID: 18138694\n",
      "Candidate: Khan County: Marsh Voter ID: 15056703\n",
      "Candidate: Khan County: Queen Voter ID: 12026178\n",
      "Candidate: Khan County: Marsh Voter ID: 16667390\n",
      "Candidate: Khan County: Queen Voter ID: 12847422\n",
      "Candidate: Khan County: Marsh Voter ID: 10599242\n",
      "Candidate: Correy County: Queen Voter ID: 18558857\n",
      "Candidate: Correy County: Queen Voter ID: 19533707\n",
      "Candidate: Khan County: Marsh Voter ID: 13360545\n",
      "Candidate: Khan County: Queen Voter ID: 13212178\n",
      "Candidate: Khan County: Marsh Voter ID: 11154929\n",
      "Candidate: Khan County: Marsh Voter ID: 19602413\n",
      "Candidate: Khan County: Marsh Voter ID: 15405592\n",
      "Candidate: Khan County: Marsh Voter ID: 19561790\n",
      "Candidate: Li County: Marsh Voter ID: 17094559\n",
      "Candidate: Li County: Marsh Voter ID: 18233965\n",
      "Candidate: Khan County: Marsh Voter ID: 19984144\n",
      "Candidate: Khan County: Trandee Voter ID: 16973343\n",
      "Candidate: Khan County: Marsh Voter ID: 17295190\n",
      "Candidate: Khan County: Marsh Voter ID: 18554319\n",
      "Candidate: Khan County: Raffah Voter ID: 15611748\n",
      "Candidate: Khan County: Marsh Voter ID: 12354752\n",
      "Candidate: Khan County: Marsh Voter ID: 19600774\n",
      "Candidate: O'Tooley County: Bamoo Voter ID: 18121503\n",
      "Candidate: Khan County: Marsh Voter ID: 16911714\n",
      "Candidate: Khan County: Marsh Voter ID: 14187424\n",
      "Candidate: Khan County: Marsh Voter ID: 12753806\n",
      "Candidate: Khan County: Marsh Voter ID: 12558332\n",
      "Candidate: Khan County: Marsh Voter ID: 12135098\n",
      "Candidate: Khan County: Queen Voter ID: 10985784\n",
      "Candidate: Li County: Marsh Voter ID: 16471243\n",
      "Candidate: Li County: Bamoo Voter ID: 14671650\n",
      "Candidate: Li County: Marsh Voter ID: 18678460\n",
      "Candidate: Khan County: Bamoo Voter ID: 19697964\n",
      "Candidate: Khan County: Marsh Voter ID: 13317391\n",
      "Candidate: Correy County: Marsh Voter ID: 10546494\n",
      "Candidate: Khan County: Marsh Voter ID: 17187093\n",
      "Candidate: Khan County: Marsh Voter ID: 16592767\n",
      "Candidate: Khan County: Queen Voter ID: 10495056\n",
      "Candidate: Khan County: Marsh Voter ID: 18469894\n",
      "Candidate: Correy County: Queen Voter ID: 16986900\n",
      "Candidate: Khan County: Marsh Voter ID: 10354536\n",
      "Candidate: Khan County: Queen Voter ID: 15503560\n",
      "Candidate: Khan County: Marsh Voter ID: 12455481\n",
      "Candidate: O'Tooley County: Queen Voter ID: 19288647\n",
      "Candidate: Li County: Marsh Voter ID: 14628255\n",
      "Candidate: Khan County: Marsh Voter ID: 12204953\n",
      "Candidate: Correy County: Bamoo Voter ID: 11898633\n",
      "Candidate: Khan County: Queen Voter ID: 15507376\n",
      "Candidate: Khan County: Marsh Voter ID: 15568341\n",
      "Candidate: Khan County: Queen Voter ID: 11893229\n",
      "Candidate: Khan County: Marsh Voter ID: 11959936\n",
      "Candidate: Khan County: Marsh Voter ID: 13983895\n",
      "Candidate: Correy County: Marsh Voter ID: 10681107\n",
      "Candidate: Khan County: Marsh Voter ID: 13159206\n",
      "Candidate: Khan County: Marsh Voter ID: 17526080\n",
      "Candidate: Khan County: Queen Voter ID: 18778133\n",
      "Candidate: Li County: Marsh Voter ID: 18908438\n",
      "Candidate: Khan County: Marsh Voter ID: 19043853\n",
      "Candidate: Khan County: Marsh Voter ID: 16923106\n",
      "Candidate: Khan County: Marsh Voter ID: 15687359\n",
      "Candidate: Khan County: Queen Voter ID: 12873603\n",
      "Candidate: Khan County: Bamoo Voter ID: 14208674\n",
      "Candidate: Khan County: Marsh Voter ID: 15327117\n",
      "Candidate: Khan County: Marsh Voter ID: 17286320\n",
      "Candidate: Khan County: Marsh Voter ID: 12522584\n",
      "Candidate: Khan County: Queen Voter ID: 19231755\n",
      "Candidate: Khan County: Marsh Voter ID: 13073690\n",
      "Candidate: Khan County: Trandee Voter ID: 13457436\n",
      "Candidate: Khan County: Queen Voter ID: 19973957\n",
      "Candidate: Khan County: Trandee Voter ID: 10315605\n",
      "Candidate: Correy County: Marsh Voter ID: 12936845\n",
      "Candidate: Khan County: Bamoo Voter ID: 18052904\n",
      "Candidate: Khan County: Marsh Voter ID: 15563039\n",
      "Candidate: Khan County: Marsh Voter ID: 10146708\n",
      "Candidate: Khan County: Marsh Voter ID: 15152016\n",
      "Candidate: Khan County: Marsh Voter ID: 15235971\n",
      "Candidate: Khan County: Marsh Voter ID: 17631127\n",
      "Candidate: Li County: Queen Voter ID: 11012216\n",
      "Candidate: Khan County: Marsh Voter ID: 10687887\n",
      "Candidate: Khan County: Marsh Voter ID: 11555429\n",
      "Candidate: Li County: Marsh Voter ID: 17333717\n",
      "Candidate: Correy County: Marsh Voter ID: 18087110\n",
      "Candidate: Khan County: Marsh Voter ID: 12373068\n",
      "Candidate: Correy County: Queen Voter ID: 11332203\n"
     ]
    }
   ],
   "source": [
    "# dictionary key: candidate names, values: number of votes\n",
    "candidate_votes = {}\n",
    "\n",
    "# iterate through data\n",
    "for line in file_data:\n",
    "    # map row values to temporary variables\n",
    "    candidate = line[2]\n",
    "    county = line[1]\n",
    "    voter_id = line[0]\n",
    "    \n",
    "    # print our variables\n",
    "    print(f\"Candidate: {candidate} County: {county} Voter ID: {voter_id}\\n\")\n",
    "    \n",
    "    # check if there is a key for the candidate\n",
    "    \n",
    "        # if yes\n",
    "    if candidate in candidate_votes.keys(): \n",
    "        # add voter id to the existing list of candidate\n",
    "        candidate_votes[candidate].append(line[0])\n",
    "        \n",
    "        # if no\n",
    "    else: \n",
    "        # create a key for the candidate, set equal a list of voter_id (for the first voter)\n",
    "        candidate_votes[candidate] = [line[0]]"
   ]
  },
  {
   "cell_type": "code",
   "execution_count": 10,
   "metadata": {},
   "outputs": [
    {
     "data": {
      "text/plain": [
       "{'Khan': 76, 'Correy': 20, 'Li': 10, \"O'Tooley\": 2}"
      ]
     },
     "execution_count": 10,
     "metadata": {},
     "output_type": "execute_result"
    }
   ],
   "source": [
    "# check output\n",
    "candidate_votes"
   ]
  },
  {
   "cell_type": "code",
   "execution_count": 11,
   "metadata": {},
   "outputs": [
    {
     "data": {
      "text/plain": [
       "['Khan', 'Correy', 'Li', \"O'Tooley\"]"
      ]
     },
     "execution_count": 11,
     "metadata": {},
     "output_type": "execute_result"
    }
   ],
   "source": [
    "# grab distinct candidates\n",
    "candidates_lst = list(candidate_votes.keys())\n",
    "candidates_lst"
   ]
  }
 ],
 "metadata": {
  "kernelspec": {
   "display_name": "Python 3",
   "language": "python",
   "name": "python3"
  },
  "language_info": {
   "codemirror_mode": {
    "name": "ipython",
    "version": 3
   },
   "file_extension": ".py",
   "mimetype": "text/x-python",
   "name": "python",
   "nbconvert_exporter": "python",
   "pygments_lexer": "ipython3",
   "version": "3.7.1"
  }
 },
 "nbformat": 4,
 "nbformat_minor": 2
}
